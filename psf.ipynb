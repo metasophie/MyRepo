{
 "cells": [
  {
   "cell_type": "code",
   "execution_count": 1,
   "id": "1724585b",
   "metadata": {},
   "outputs": [],
   "source": [
    "from astropy.io import fits\n",
    "import numpy as np\n",
    "\n",
    "def reconstructPSF(psFieldFilename, filter, row, col):\n",
    "\n",
    "    filterIdx = 'ugriz'.index(filter) + 1\n",
    "    psField = fits.open(psFieldFilename)\n",
    "    pStruct = psField[filterIdx].data\n",
    "\n",
    "    nrow_b = pStruct['nrow_b'][0]\n",
    "    ncol_b = pStruct['ncol_b'][0]\n",
    "\n",
    "    rnrow = pStruct['rnrow'][0]\n",
    "    rncol = pStruct['rncol'][0]\n",
    "\n",
    "    nb = nrow_b * ncol_b\n",
    "    coeffs = np.zeros(nb.size, float)\n",
    "    ecoeff = np.zeros(3, float)\n",
    "    cmat = pStruct['c']\n",
    "\n",
    "    rcs = 0.001\n",
    "    for ii in range(0, nb.size):\n",
    "        coeffs[ii] = (row * rcs)**(ii % nrow_b) * (col * rcs)**(ii / nrow_b)\n",
    "\n",
    "    for jj in range(0, 3):\n",
    "        for ii in range(0, nb.size):\n",
    "            ecoeff[jj] = ecoeff[jj] + cmat[int(ii / nrow_b), ii % nrow_b, jj] * coeffs[ii]\n",
    "\n",
    "    psf = pStruct['rrows'][0] * ecoeff[0] + \\\n",
    "        pStruct['rrows'][1] * ecoeff[1] + \\\n",
    "        pStruct['rrows'][2] * ecoeff[2]\n",
    "\n",
    "    psf = np.reshape(psf, (rnrow, rncol))\n",
    "    # psf = psf[10:40, 10:40]  # Trim non-zero regions.\n",
    "\n",
    "    return psf"
   ]
  },
  {
   "cell_type": "code",
   "execution_count": 5,
   "id": "ca55112e",
   "metadata": {},
   "outputs": [
    {
     "data": {
      "image/png": "[encoded data removed]",
      "text/plain": [
       "<Figure size 640x480 with 1 Axes>"
      ]
     },
     "metadata": {},
     "output_type": "display_data"
    }
   ],
   "source": [
    "import matplotlib.pyplot as plt\n",
    "plt.imshow(reconstructPSF(r\"C:\\Users\\lenovo\\Desktop\\本研\\psf\\psField-005112-4-0224.fit\",\"r\",500,500))\n",
    "plt.show()"
   ]
  },
  {
   "cell_type": "code",
   "execution_count": null,
   "id": "dc90cd3d",
   "metadata": {},
   "outputs": [],
   "source": []
  }
 ],
 "metadata": {
  "kernelspec": {
   "display_name": "Python 3 (ipykernel)",
   "language": "python",
   "name": "python3"
  },
  "language_info": {
   "codemirror_mode": {
    "name": "ipython",
    "version": 3
   },
   "file_extension": ".py",
   "mimetype": "text/x-python",
   "name": "python",
   "nbconvert_exporter": "python",
   "pygments_lexer": "ipython3",
   "version": "3.10.10"
  }
 },
 "nbformat": 4,
 "nbformat_minor": 5
}
